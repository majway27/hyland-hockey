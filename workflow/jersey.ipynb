{
 "cells": [
  {
   "cell_type": "markdown",
   "id": "6ca407ba",
   "metadata": {},
   "source": [
    "# Jersey Order Management For Youth Hockey Teams\n",
    "\n",
    "> This project is a jupyter notebook that allows youth hockey team managers to manage their jersey orders."
   ]
  },
  {
   "cell_type": "markdown",
   "id": "4148549d",
   "metadata": {},
   "source": [
    "## Imports, Config, Auth"
   ]
  },
  {
   "cell_type": "code",
   "execution_count": 1,
   "id": "669d0441",
   "metadata": {},
   "outputs": [],
   "source": [
    "# Imports\n",
    "import pandas as pd\n",
    "\n",
    "# Config\n",
    "from pathlib import Path\n",
    "import sys\n",
    "# Add project root to Python path\n",
    "project_root = str(Path.cwd().parent)\n",
    "if project_root not in sys.path:\n",
    "    sys.path.append(project_root)\n",
    "\n",
    "from config.config_manager import ConfigManager\n",
    "config = ConfigManager()\n",
    "SCOPES = config.scopes\n",
    "JERSEY_WORKSHEET_NAME = config.jersey_worksheet_name\n",
    "JERSEY_SENDER_EMAIL = config.jersey_sender_email\n",
    "JERSEY_DEFAULT_TO_EMAIL = config.jersey_default_to_email\n",
    "\n",
    "# gSheets\n",
    "import record.sheets as data\n",
    "\n",
    "# gMail\n",
    "import message.gmail as notify"
   ]
  },
  {
   "cell_type": "markdown",
   "id": "1282b3fd",
   "metadata": {},
   "source": [
    "## Business Logic"
   ]
  },
  {
   "cell_type": "code",
   "execution_count": null,
   "id": "b469e6e3",
   "metadata": {},
   "outputs": [],
   "source": [
    "df = data.read_google_sheet(JERSEY_WORKSHEET_NAME)\n",
    "df"
   ]
  },
  {
   "cell_type": "code",
   "execution_count": null,
   "id": "31421176",
   "metadata": {},
   "outputs": [],
   "source": [
    "# Example usage:\n",
    "notify.send_gmail(\n",
    "    sender_email=JERSEY_SENDER_EMAIL,\n",
    "    to_email=JERSEY_DEFAULT_TO_EMAIL,\n",
    "    subject='Jersey Order Update',\n",
    "    message_text='Your jersey order has been processed.'\n",
    ")"
   ]
  }
 ],
 "metadata": {
  "kernelspec": {
   "display_name": "venv",
   "language": "python",
   "name": "python3"
  },
  "language_info": {
   "codemirror_mode": {
    "name": "ipython",
    "version": 3
   },
   "file_extension": ".py",
   "mimetype": "text/x-python",
   "name": "python",
   "nbconvert_exporter": "python",
   "pygments_lexer": "ipython3",
   "version": "3.10.12"
  }
 },
 "nbformat": 4,
 "nbformat_minor": 5
}
