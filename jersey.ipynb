{
 "cells": [
  {
   "cell_type": "code",
   "execution_count": null,
   "id": "af9c359a-750d-4ece-a6ab-2c3af8c39129",
   "metadata": {},
   "outputs": [],
   "source": [
    "# Jersey Order Management For Youth Hockey Teams\n",
    "\n",
    "## Overview\n",
    "\n",
    "- This project is a web application that allows youth hockey teams to manage their jersey orders.  \n",
    "- It centers around a jupyter notebook that is used to manage the jersey orders.\n",
    "\n",
    "## Features\n",
    "\n",
    "- Add a new jersey order\n",
    "- View all jersey orders\n",
    "- Update a jersey order\n",
    "- Delete a jersey order"
   ]
  },
  {
   "cell_type": "markdown",
   "id": "6ca407ba",
   "metadata": {},
   "source": []
  },
  {
   "cell_type": "markdown",
   "id": "287c9fc2",
   "metadata": {},
   "source": []
  }
 ],
 "metadata": {
  "kernelspec": {
   "display_name": "Python 3 (ipykernel)",
   "language": "python",
   "name": "python3"
  },
  "language_info": {
   "codemirror_mode": {
    "name": "ipython",
    "version": 3
   },
   "file_extension": ".py",
   "mimetype": "text/x-python",
   "name": "python",
   "nbconvert_exporter": "python",
   "pygments_lexer": "ipython3",
   "version": "3.10.12"
  }
 },
 "nbformat": 4,
 "nbformat_minor": 5
}
