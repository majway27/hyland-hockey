{
 "cells": [
  {
   "cell_type": "markdown",
   "id": "6ca407ba",
   "metadata": {},
   "source": [
    "# Demo Notebook\n",
    "\n",
    "> Test drive basic notebook functionality"
   ]
  },
  {
   "cell_type": "markdown",
   "id": "4148549d",
   "metadata": {},
   "source": [
    "## Imports, Config, Auth"
   ]
  },
  {
   "cell_type": "code",
   "execution_count": 1,
   "id": "669d0441",
   "metadata": {},
   "outputs": [],
   "source": [
    "# Imports\n",
    "import pandas as pd\n",
    "\n",
    "# Config\n",
    "from pathlib import Path\n",
    "import sys\n",
    "# Add project root to Python path\n",
    "project_root = str(Path.cwd().parent)\n",
    "if project_root not in sys.path:\n",
    "    sys.path.append(project_root)\n",
    "\n",
    "from config.config_manager import ConfigManager\n",
    "config = ConfigManager()\n",
    "SCOPES = config.scopes\n",
    "DEMO_WORKSHEET_NAME = config.demo_worksheet_name\n",
    "DEMO_SENDER_EMAIL = config.demo_sender_email\n",
    "DEMO_DEFAULT_TO_EMAIL = config.demo_default_to_email\n",
    "\n",
    "# gSheets\n",
    "import record.sheets as data\n",
    "\n",
    "# gMail\n",
    "import message.gmail as notify"
   ]
  },
  {
   "cell_type": "markdown",
   "id": "1282b3fd",
   "metadata": {},
   "source": [
    "## Business Logic"
   ]
  },
  {
   "cell_type": "code",
   "execution_count": null,
   "id": "b469e6e3",
   "metadata": {},
   "outputs": [],
   "source": [
    "df = data.read_google_sheet(DEMO_WORKSHEET_NAME)\n",
    "df"
   ]
  },
  {
   "cell_type": "code",
   "execution_count": null,
   "id": "31421176",
   "metadata": {},
   "outputs": [],
   "source": [
    "# Example usage:\n",
    "notify.send_gmail(\n",
    "    sender_email=DEMO_SENDER_EMAIL,\n",
    "    to_email=DEMO_DEFAULT_TO_EMAIL,\n",
    "    subject='Demo Email Subject',\n",
    "    message_text='Demo Email Message Body Text.'\n",
    ")"
   ]
  }
 ],
 "metadata": {
  "kernelspec": {
   "display_name": "venv",
   "language": "python",
   "name": "python3"
  },
  "language_info": {
   "codemirror_mode": {
    "name": "ipython",
    "version": 3
   },
   "file_extension": ".py",
   "mimetype": "text/x-python",
   "name": "python",
   "nbconvert_exporter": "python",
   "pygments_lexer": "ipython3",
   "version": "3.10.12"
  }
 },
 "nbformat": 4,
 "nbformat_minor": 5
}
