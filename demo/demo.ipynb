{
 "cells": [
  {
   "cell_type": "markdown",
   "id": "6ca407ba",
   "metadata": {},
   "source": [
    "# Demo Notebook\n",
    "\n",
    "> Test drive basic notebook functionality"
   ]
  },
  {
   "cell_type": "markdown",
   "id": "4148549d",
   "metadata": {},
   "source": [
    "## Imports, Config, Auth"
   ]
  },
  {
   "cell_type": "code",
   "execution_count": 1,
   "id": "669d0441",
   "metadata": {},
   "outputs": [],
   "source": [
    "# Imports\n",
    "import pandas as pd\n",
    "\n",
    "# Config\n",
    "from pathlib import Path\n",
    "import sys\n",
    "# Add project root to Python path\n",
    "project_root = str(Path.cwd().parent)\n",
    "if project_root not in sys.path:\n",
    "    sys.path.append(project_root)\n",
    "\n",
    "from config.config_manager import ConfigManager\n",
    "config = ConfigManager()\n",
    "SCOPES = config.scopes\n",
    "DEMO_SPREADSHEET_NAME = config.demo_spreadsheet_name\n",
    "DEMO_SPREADSHEET_ID = config.demo_spreadsheet_id\n",
    "DEMO_WORKSHEET_FORM_RESPONSES_GID = config.demo_worksheet_form_responses_gid\n",
    "DEMO_WORKSHEET_JERSEY_ORDERS_GID = config.demo_worksheet_jersey_orders_gid\n",
    "\n",
    "# gSheets\n",
    "import record.sheets as data\n",
    "\n",
    "# gMail\n",
    "import message.gmail as notify"
   ]
  },
  {
   "cell_type": "markdown",
   "id": "1282b3fd",
   "metadata": {},
   "source": [
    "## Business Logic"
   ]
  },
  {
   "cell_type": "markdown",
   "id": "fdd6d754",
   "metadata": {},
   "source": [
    "### Records"
   ]
  },
  {
   "cell_type": "code",
   "execution_count": null,
   "id": "b469e6e3",
   "metadata": {},
   "outputs": [],
   "source": [
    "df = data.read_google_sheet(DEMO_SPREADSHEET_NAME)  # DEMO_WORKSHEET_FORM_RESPONSES_GID\n",
    "df"
   ]
  },
  {
   "cell_type": "code",
   "execution_count": 6,
   "id": "932e6b08",
   "metadata": {},
   "outputs": [
    {
     "data": {
      "text/html": [
       "<div>\n",
       "<style scoped>\n",
       "    .dataframe tbody tr th:only-of-type {\n",
       "        vertical-align: middle;\n",
       "    }\n",
       "\n",
       "    .dataframe tbody tr th {\n",
       "        vertical-align: top;\n",
       "    }\n",
       "\n",
       "    .dataframe thead th {\n",
       "        text-align: right;\n",
       "    }\n",
       "</style>\n",
       "<table border=\"1\" class=\"dataframe\">\n",
       "  <thead>\n",
       "    <tr style=\"text-align: right;\">\n",
       "      <th></th>\n",
       "      <th>id</th>\n",
       "      <th>status</th>\n",
       "      <th>person</th>\n",
       "      <th>email</th>\n",
       "      <th>jersey_size_requested</th>\n",
       "      <th>jersey_size_issued</th>\n",
       "      <th>created_date</th>\n",
       "      <th>updated_date</th>\n",
       "      <th>notes</th>\n",
       "    </tr>\n",
       "  </thead>\n",
       "  <tbody>\n",
       "  </tbody>\n",
       "</table>\n",
       "</div>"
      ],
      "text/plain": [
       "Empty DataFrame\n",
       "Columns: [id, status, person, email, jersey_size_requested, jersey_size_issued, created_date, updated_date, notes]\n",
       "Index: []"
      ]
     },
     "execution_count": 6,
     "metadata": {},
     "output_type": "execute_result"
    }
   ],
   "source": [
    "df = data.read_google_sheet_by_id(DEMO_SPREADSHEET_ID, DEMO_WORKSHEET_JERSEY_ORDERS_GID)\n",
    "df"
   ]
  },
  {
   "cell_type": "markdown",
   "id": "ae75a196",
   "metadata": {},
   "source": [
    "### Message"
   ]
  },
  {
   "cell_type": "code",
   "execution_count": null,
   "id": "2acb75f5",
   "metadata": {},
   "outputs": [],
   "source": [
    "# Send an email immediately\n",
    "notify.send_gmail(\n",
    "    sender_email=DEMO_SENDER_EMAIL,\n",
    "    to_email=DEMO_DEFAULT_TO_EMAIL,\n",
    "    subject='Demo Email Subject',\n",
    "    message_text='Demo Email Message Body Text.'\n",
    ")"
   ]
  },
  {
   "cell_type": "code",
   "execution_count": null,
   "id": "d54bcf98",
   "metadata": {},
   "outputs": [],
   "source": [
    "# Create a draft email\n",
    "notify.create_gmail_draft(\n",
    "    sender_email=DEMO_SENDER_EMAIL,\n",
    "    to_email=DEMO_DEFAULT_TO_EMAIL,\n",
    "    subject='Demo Draft Email Subject',\n",
    "    message_text='Demo Draft Email Message Body Text.'\n",
    ")"
   ]
  },
  {
   "cell_type": "code",
   "execution_count": null,
   "id": "b2c10e87",
   "metadata": {},
   "outputs": [],
   "source": [
    "# Send all drafts\n",
    "notify.send_all_drafts()"
   ]
  }
 ],
 "metadata": {
  "kernelspec": {
   "display_name": "venv",
   "language": "python",
   "name": "python3"
  },
  "language_info": {
   "codemirror_mode": {
    "name": "ipython",
    "version": 3
   },
   "file_extension": ".py",
   "mimetype": "text/x-python",
   "name": "python",
   "nbconvert_exporter": "python",
   "pygments_lexer": "ipython3",
   "version": "3.10.12"
  }
 },
 "nbformat": 4,
 "nbformat_minor": 5
}
